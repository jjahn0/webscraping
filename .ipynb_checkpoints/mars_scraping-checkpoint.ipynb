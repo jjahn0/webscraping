{
 "cells": [
  {
   "cell_type": "code",
   "execution_count": 5,
   "metadata": {},
   "outputs": [],
   "source": [
    "import time\n",
    "from splinter import Browser\n",
    "from bs4 import BeautifulSoup\n",
    "import pandas as pd\n",
    "from selenium import webdriver"
   ]
  },
  {
   "cell_type": "code",
   "execution_count": 6,
   "metadata": {},
   "outputs": [],
   "source": [
    "def init_browser():\n",
    "    executable_path = {'executable_path': 'chromedriver'}\n",
    "    return Browser('chrome', **executable_path)"
   ]
  },
  {
   "cell_type": "code",
   "execution_count": 7,
   "metadata": {},
   "outputs": [],
   "source": [
    "def scrape_news():\n",
    "    browser = init_browser()\n",
    "    info = {}\n",
    "    url = \"https://mars.nasa.gov/news/\"\n",
    "    browser.visit(url)\n",
    "    html = browser.html\n",
    "    soup = BeautifulSoup(html, \"html.parser\")\n",
    "    info[\"headline\"] = soup.find(\"div\", class_=\"content_title\").get_text()\n",
    "    info[\"date\"] = soup.find(\"div\", class_=\"list_date\").get_text()\n",
    "    info[\"teaser\"] = soup.find(\"div\", class_=\"article_teaser_body\").get_text()\n",
    "    browser.quit()\n",
    "\n",
    "    return info"
   ]
  },
  {
   "cell_type": "code",
   "execution_count": 8,
   "metadata": {},
   "outputs": [
    {
     "data": {
      "text/plain": [
       "{'date': 'May 23, 2018',\n",
       " 'headline': 'InSight Steers Toward Mars',\n",
       " 'teaser': 'The spacecraft has completed its first trajectory correction maneuver.'}"
      ]
     },
     "execution_count": 8,
     "metadata": {},
     "output_type": "execute_result"
    }
   ],
   "source": [
    "scrape_news()"
   ]
  },
  {
   "cell_type": "code",
   "execution_count": 9,
   "metadata": {},
   "outputs": [],
   "source": [
    "def scrape_img():\n",
    "    browser = init_browser()\n",
    "    url = \"https://www.jpl.nasa.gov/spaceimages/?search=&category=Mars\"\n",
    "    base_url = \"https://www.jpl.nasa.gov\"\n",
    "    browser.visit(url)\n",
    "    html = browser.html\n",
    "    soup = BeautifulSoup(html, \"html.parser\")\n",
    "    img_path = soup.find(\"a\", class_=\"button fancybox\")['data-fancybox-href']\n",
    "    full_img_url = base_url + img_path\n",
    "    browser.quit()\n",
    "    return full_img_url"
   ]
  },
  {
   "cell_type": "code",
   "execution_count": 10,
   "metadata": {},
   "outputs": [
    {
     "data": {
      "text/plain": [
       "'https://www.jpl.nasa.gov/spaceimages/images/mediumsize/PIA17462_ip.jpg'"
      ]
     },
     "execution_count": 10,
     "metadata": {},
     "output_type": "execute_result"
    }
   ],
   "source": [
    "scrape_img()"
   ]
  },
  {
   "cell_type": "code",
   "execution_count": 11,
   "metadata": {},
   "outputs": [],
   "source": [
    "# div, class=\"js-tweet-text-container\"\n",
    "def scrape_weather():\n",
    "    browser = init_browser()\n",
    "    url = \"https://twitter.com/marswxreport?lang=en\"\n",
    "    browser.visit(url)\n",
    "    html = browser.html\n",
    "    soup = BeautifulSoup(html, \"html.parser\")\n",
    "    latest_weather = soup.find(\"div\", class_=\"js-tweet-text-container\").get_text().replace('\\n','')\n",
    "    browser.quit()\n",
    "    return latest_weather\n"
   ]
  },
  {
   "cell_type": "code",
   "execution_count": 12,
   "metadata": {},
   "outputs": [
    {
     "data": {
      "text/plain": [
       "'Sol 2060 (May 23, 2018), Sunny, high 4C/39F, low -73C/-99F, pressure at 7.43 hPa, daylight 05:20-17:20'"
      ]
     },
     "execution_count": 12,
     "metadata": {},
     "output_type": "execute_result"
    }
   ],
   "source": [
    "scrape_weather()"
   ]
  },
  {
   "cell_type": "code",
   "execution_count": 13,
   "metadata": {},
   "outputs": [],
   "source": [
    "def scrape_facts():\n",
    "    mars_info_dict = {}\n",
    "    url = \"https://space-facts.com/mars/\"\n",
    "    tables = pd.read_html(url)\n",
    "    mars_info = tables[0]\n",
    "    categories = list(mars_info[0])\n",
    "    facts = list(mars_info[1])\n",
    "    for i in range(len(categories)):\n",
    "        categories[i] =categories[i].replace(\":\",\"\")\n",
    "    mars_info_dict = dict(zip(categories,facts))\n",
    "    return mars_info_dict"
   ]
  },
  {
   "cell_type": "code",
   "execution_count": 14,
   "metadata": {},
   "outputs": [
    {
     "data": {
      "text/plain": [
       "{'Equatorial_Diameter': '6,792 km',\n",
       " 'First_Record': '2nd millennium BC',\n",
       " 'Mass': '6.42 x 10^23 kg (10.7% Earth)',\n",
       " 'Moons': '2 (Phobos & Deimos)',\n",
       " 'Orbit_Distance': '227,943,824 km (1.52 AU)',\n",
       " 'Orbit_Period': '687 days (1.9 years)',\n",
       " 'Polar_Diameter': '6,752 km',\n",
       " 'Recorded_By': 'Egyptian astronomers',\n",
       " 'Surface_Temperature': '-153 to 20 °C'}"
      ]
     },
     "execution_count": 14,
     "metadata": {},
     "output_type": "execute_result"
    }
   ],
   "source": [
    "scrape_facts()"
   ]
  },
  {
   "cell_type": "code",
   "execution_count": 15,
   "metadata": {},
   "outputs": [],
   "source": [
    "# scrape href and gather them\n",
    "# https://astrogeology.usgs.gov/search/results?q=hemisphere+enhanced&k1=target&v1=Mars\n",
    "\n",
    "def scrape_url_list():\n",
    "    url_list = []\n",
    "    browser = init_browser()\n",
    "    url = \"https://astrogeology.usgs.gov/search/results?q=hemisphere+enhanced&k1=target&v1=Mars\"\n",
    "    base_url = \"https://astrogeology.usgs.gov\"\n",
    "    browser.visit(url)\n",
    "    html = browser.html\n",
    "    soup = BeautifulSoup(html, \"html.parser\")\n",
    "    for item in soup.find_all(\"div\", class_=\"item\"):\n",
    "        for a in item.find_all(\"a\", href=True):\n",
    "            url_list.append(base_url + a['href'])\n",
    "    url_list = list(set(url_list))\n",
    "    browser.quit()\n",
    "    return url_list"
   ]
  },
  {
   "cell_type": "code",
   "execution_count": 16,
   "metadata": {},
   "outputs": [
    {
     "data": {
      "text/plain": [
       "['https://astrogeology.usgs.gov/search/map/Mars/Viking/cerberus_enhanced',\n",
       " 'https://astrogeology.usgs.gov/search/map/Mars/Viking/schiaparelli_enhanced',\n",
       " 'https://astrogeology.usgs.gov/search/map/Mars/Viking/syrtis_major_enhanced',\n",
       " 'https://astrogeology.usgs.gov/search/map/Mars/Viking/valles_marineris_enhanced']"
      ]
     },
     "execution_count": 16,
     "metadata": {},
     "output_type": "execute_result"
    }
   ],
   "source": [
    "scrape_url_list()"
   ]
  },
  {
   "cell_type": "code",
   "execution_count": 17,
   "metadata": {},
   "outputs": [],
   "source": [
    "def scrape_href_list():\n",
    "    href_list = []\n",
    "    dict_item = {}\n",
    "    \n",
    "    url_list = scrape_url_list()\n",
    "    browser = init_browser()\n",
    "    for url in url_list:\n",
    "        browser.visit(url)\n",
    "        html = browser.html\n",
    "        soup = BeautifulSoup(html, \"html.parser\")\n",
    "        title = soup.find(\"h2\", class_=\"title\").get_text()\n",
    "        for div in soup.find_all('div', class_=\"downloads\"):\n",
    "            dict_item = {\n",
    "                \"title\": title,\n",
    "                \"href\": div.find('a')['href']\n",
    "            }\n",
    "        href_list.append(dict_item)\n",
    "    browser.quit()\n",
    "    return href_list"
   ]
  },
  {
   "cell_type": "code",
   "execution_count": 18,
   "metadata": {},
   "outputs": [
    {
     "data": {
      "text/plain": [
       "[{'href': 'http://astropedia.astrogeology.usgs.gov/download/Mars/Viking/cerberus_enhanced.tif/full.jpg',\n",
       "  'title': 'Cerberus Hemisphere Enhanced'},\n",
       " {'href': 'http://astropedia.astrogeology.usgs.gov/download/Mars/Viking/schiaparelli_enhanced.tif/full.jpg',\n",
       "  'title': 'Schiaparelli Hemisphere Enhanced'},\n",
       " {'href': 'http://astropedia.astrogeology.usgs.gov/download/Mars/Viking/syrtis_major_enhanced.tif/full.jpg',\n",
       "  'title': 'Syrtis Major Hemisphere Enhanced'},\n",
       " {'href': 'http://astropedia.astrogeology.usgs.gov/download/Mars/Viking/valles_marineris_enhanced.tif/full.jpg',\n",
       "  'title': 'Valles Marineris Hemisphere Enhanced'}]"
      ]
     },
     "execution_count": 18,
     "metadata": {},
     "output_type": "execute_result"
    }
   ],
   "source": [
    "scrape_href_list()"
   ]
  },
  {
   "cell_type": "code",
   "execution_count": 20,
   "metadata": {},
   "outputs": [],
   "source": [
    "def scrape():\n",
    "    info = {\n",
    "        \"news\" : scrape_news(),\n",
    "        \"img_url\" : scrape_img(),\n",
    "        \"weather\" : scrape_weather(),\n",
    "        \"facts\" : scrape_facts(),\n",
    "        \"img_list\" : scrape_href_list()\n",
    "    }\n",
    "    return info"
   ]
  },
  {
   "cell_type": "code",
   "execution_count": 21,
   "metadata": {},
   "outputs": [
    {
     "name": "stdout",
     "output_type": "stream",
     "text": [
      "{'facts': {'Equatorial_Diameter': '6,792 km',\n",
      "           'First_Record': '2nd millennium BC',\n",
      "           'Mass': '6.42 x 10^23 kg (10.7% Earth)',\n",
      "           'Moons': '2 (Phobos & Deimos)',\n",
      "           'Orbit_Distance': '227,943,824 km (1.52 AU)',\n",
      "           'Orbit_Period': '687 days (1.9 years)',\n",
      "           'Polar_Diameter': '6,752 km',\n",
      "           'Recorded_By': 'Egyptian astronomers',\n",
      "           'Surface_Temperature': '-153 to 20 °C'},\n",
      " 'img_list': [{'href': 'http://astropedia.astrogeology.usgs.gov/download/Mars/Viking/cerberus_enhanced.tif/full.jpg',\n",
      "               'title': 'Cerberus Hemisphere Enhanced'},\n",
      "              {'href': 'http://astropedia.astrogeology.usgs.gov/download/Mars/Viking/schiaparelli_enhanced.tif/full.jpg',\n",
      "               'title': 'Schiaparelli Hemisphere Enhanced'},\n",
      "              {'href': 'http://astropedia.astrogeology.usgs.gov/download/Mars/Viking/syrtis_major_enhanced.tif/full.jpg',\n",
      "               'title': 'Syrtis Major Hemisphere Enhanced'},\n",
      "              {'href': 'http://astropedia.astrogeology.usgs.gov/download/Mars/Viking/valles_marineris_enhanced.tif/full.jpg',\n",
      "               'title': 'Valles Marineris Hemisphere Enhanced'}],\n",
      " 'img_url': 'https://www.jpl.nasa.gov/spaceimages/images/mediumsize/PIA17462_ip.jpg',\n",
      " 'news': {'date': 'May 23, 2018',\n",
      "          'headline': 'InSight Steers Toward Mars',\n",
      "          'teaser': 'The spacecraft has completed its first trajectory '\n",
      "                    'correction maneuver.'},\n",
      " 'weather': 'Sol 2060 (May 23, 2018), Sunny, high 4C/39F, low -73C/-99F, '\n",
      "            'pressure at 7.43 hPa, daylight 05:20-17:20'}\n"
     ]
    }
   ],
   "source": [
    "from pprint import pprint\n",
    "pprint(scrape())"
   ]
  },
  {
   "cell_type": "code",
   "execution_count": 25,
   "metadata": {},
   "outputs": [
    {
     "name": "stdout",
     "output_type": "stream",
     "text": [
      "b,2\n",
      "a,1\n"
     ]
    }
   ],
   "source": [
    "dictionary = {\"a\":1, \"b\":2}\n",
    "for key in dictionary.keys():\n",
    "    print(\"{},{}\".format(key, dictionary[key]))"
   ]
  },
  {
   "cell_type": "code",
   "execution_count": null,
   "metadata": {},
   "outputs": [],
   "source": []
  }
 ],
 "metadata": {
  "kernelspec": {
   "display_name": "Python (pythondata)",
   "language": "python",
   "name": "pythondata"
  },
  "language_info": {
   "codemirror_mode": {
    "name": "ipython",
    "version": 3
   },
   "file_extension": ".py",
   "mimetype": "text/x-python",
   "name": "python",
   "nbconvert_exporter": "python",
   "pygments_lexer": "ipython3",
   "version": "3.4.5"
  }
 },
 "nbformat": 4,
 "nbformat_minor": 2
}
